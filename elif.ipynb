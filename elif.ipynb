{
  "nbformat": 4,
  "nbformat_minor": 0,
  "metadata": {
    "colab": {
      "provenance": [],
      "authorship_tag": "ABX9TyNBQ6lgv+RRfDfKsbAinBLB",
      "include_colab_link": true
    },
    "kernelspec": {
      "name": "python3",
      "display_name": "Python 3"
    },
    "language_info": {
      "name": "python"
    }
  },
  "cells": [
    {
      "cell_type": "markdown",
      "metadata": {
        "id": "view-in-github",
        "colab_type": "text"
      },
      "source": [
        "<a href=\"https://colab.research.google.com/github/xonorKjr/programaci-/blob/main/elif.ipynb\" target=\"_parent\"><img src=\"https://colab.research.google.com/assets/colab-badge.svg\" alt=\"Open In Colab\"/></a>"
      ]
    },
    {
      "cell_type": "markdown",
      "source": [
        "Suposem que la x té un valor de 45 0-40 >80-120 >120"
      ],
      "metadata": {
        "id": "egUOy5bjKSwv"
      }
    },
    {
      "cell_type": "code",
      "execution_count": null,
      "metadata": {
        "colab": {
          "base_uri": "https://localhost:8080/"
        },
        "id": "fgkNIEKwKGb5",
        "outputId": "e2bbc9f2-ea4c-4f01-a9a6-bd0027a7a29c"
      },
      "outputs": [
        {
          "output_type": "stream",
          "name": "stdout",
          "text": [
            "El valor esta comprés entre 41 y 80\n"
          ]
        }
      ],
      "source": [
        "x = 45\n",
        "\n",
        "if 0 <=x<=40:\n",
        "    print(\"El valor esta comprés entre 0 i 40\")\n",
        "elif 41 <=x<=80:\n",
        "    print(\"El valor esta comprés entre 41 i 80\")\n",
        "elif 81 <=x<=120:\n",
        "    print(\"El valor esta comprés entre 81 i 120\")\n",
        "else:\n",
        "    print(\"El valor es mes gran que 120\")"
      ]
    },
    {
      "cell_type": "markdown",
      "source": [],
      "metadata": {
        "id": "dn9iNlv6PoC4"
      }
    },
    {
      "cell_type": "code",
      "source": [
        "x=[13,27,34,87,123,46,61,88,32]\n",
        "for numeros in x:\n",
        "  if 0<=numeros<=20:\n",
        "    print(\"El valor esta pomprés entre 0 i 20\")\n",
        "  elif 20<=numeros<=40:\n",
        "    print(\"El valor esta comprés entre 20 i 40\")\n",
        "  elif 40<=numeros<=60:\n",
        "    print(\"El valor esta comprés entre 40 i 60\")\n",
        "  elif 60<=numeros<=80:\n",
        "    print(\"El valor esta comprés entre 60 i 80\")\n",
        "  elif 80<=numeros<=100:\n",
        "    print(\"El valor esta comprés entre 80 i 100\")\n",
        "  elif 100<=numeros<=120:\n",
        "    print(\"El valor esta comprés entre 100 i 120\")\n",
        "  else:\n",
        "    print(\"El valor es mes gran que 120\")"
      ],
      "metadata": {
        "colab": {
          "base_uri": "https://localhost:8080/"
        },
        "id": "6jyS2zPtNMpk",
        "outputId": "33c5acca-0a60-4e38-c73d-9b998e18a8fc"
      },
      "execution_count": null,
      "outputs": [
        {
          "output_type": "stream",
          "name": "stdout",
          "text": [
            "El valor esta pomprés entre 0 i 20\n",
            "El valor esta comprés entre 20 i 40\n",
            "El valor esta comprés entre 20 i 40\n",
            "El valor esta comprés entre 80 i 100\n",
            "El valor es mes gran que 120\n",
            "El valor esta comprés entre 40 i 60\n",
            "El valor esta comprés entre 60 i 80\n",
            "El valor esta comprés entre 80 i 100\n",
            "El valor esta comprés entre 20 i 40\n"
          ]
        }
      ]
    }
  ]
}