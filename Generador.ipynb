{
  "nbformat": 4,
  "nbformat_minor": 0,
  "metadata": {
    "colab": {
      "provenance": [],
      "authorship_tag": "ABX9TyMAqNZLLcPARo3cvk9wI0uh",
      "include_colab_link": true
    },
    "kernelspec": {
      "name": "python3",
      "display_name": "Python 3"
    },
    "language_info": {
      "name": "python"
    }
  },
  "cells": [
    {
      "cell_type": "markdown",
      "metadata": {
        "id": "view-in-github",
        "colab_type": "text"
      },
      "source": [
        "<a href=\"https://colab.research.google.com/github/xonorKjr/programaci-/blob/main/Generador.ipynb\" target=\"_parent\"><img src=\"https://colab.research.google.com/assets/colab-badge.svg\" alt=\"Open In Colab\"/></a>"
      ]
    },
    {
      "cell_type": "code",
      "execution_count": null,
      "metadata": {
        "id": "ij6wxS7wrxYn"
      },
      "outputs": [],
      "source": [
        "from random import sample\n",
        "\n",
        "def pasword_generator(longitud):\n",
        "  minusculas = \"qwertyuiopasdfghjklñzxcvbnm\"\n",
        "  mayusculas = minusculas.upper()\n",
        "  numeros = \"1234567890\"\n",
        "  simbols = \",.[(_,.@#%\"\n",
        "  secuencia= minusculas+mayusculas+numeros+simbols\n",
        "  union = sample(secuencia, longitud)\n",
        "  resultat= \"\".join(union)\n",
        "  return resultat\n",
        "contrasenya=pasword_generator(12)\n",
        "print(contrasenya)"
      ]
    }
  ]
}