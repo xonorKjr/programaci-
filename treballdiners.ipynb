{
  "nbformat": 4,
  "nbformat_minor": 0,
  "metadata": {
    "colab": {
      "provenance": [],
      "authorship_tag": "ABX9TyPIifj/iOfU8Z/j8eM8KhuM",
      "include_colab_link": true
    },
    "kernelspec": {
      "name": "python3",
      "display_name": "Python 3"
    },
    "language_info": {
      "name": "python"
    }
  },
  "cells": [
    {
      "cell_type": "markdown",
      "metadata": {
        "id": "view-in-github",
        "colab_type": "text"
      },
      "source": [
        "<a href=\"https://colab.research.google.com/github/xonorKjr/programaci-/blob/main/treballdiners.ipynb\" target=\"_parent\"><img src=\"https://colab.research.google.com/assets/colab-badge.svg\" alt=\"Open In Colab\"/></a>"
      ]
    },
    {
      "cell_type": "markdown",
      "source": [
        "Escriure un programa que li pregunti un usuari les hores que treballa i el preu per hora, quant cobra."
      ],
      "metadata": {
        "id": "zMoQ_PWMODHh"
      }
    },
    {
      "cell_type": "code",
      "source": [
        "horas = int(input(\"Cuantes hores treballes diariament?\"))\n",
        "diners_hora = float(input(\"Cuant cobres per hora?\"))\n",
        "calcul = horas*diners_hora\n",
        "print (\"Al dia cobres\", calcul, \"€\")\n",
        "mensual= calcul*30\n",
        "print (\"Al mes cobres\", mensual, \"€\")\n",
        "print (\"A l'any cobres\", mensual*12, \"€\")\n"
      ],
      "metadata": {
        "colab": {
          "base_uri": "https://localhost:8080/"
        },
        "id": "w-l1l8oGOtRJ",
        "outputId": "b92578db-d0e1-45f6-f83f-c0424c3f883a"
      },
      "execution_count": null,
      "outputs": [
        {
          "output_type": "stream",
          "name": "stdout",
          "text": [
            "Cuantes hores treballes diariament?6\n",
            "Cuant cobres per hora?12\n",
            "Al dia cobres 72.0 €\n",
            "Al mes cobres 2160.0 €\n",
            "A l'any cobres 25920.0 €\n"
          ]
        }
      ]
    },
    {
      "cell_type": "markdown",
      "source": [],
      "metadata": {
        "id": "yWVKpdW9sU4e"
      }
    }
  ]
}