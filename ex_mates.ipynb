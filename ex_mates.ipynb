{
  "nbformat": 4,
  "nbformat_minor": 0,
  "metadata": {
    "colab": {
      "provenance": [],
      "authorship_tag": "ABX9TyNUy5qNd0Bjd7LG7rCKvGVC",
      "include_colab_link": true
    },
    "kernelspec": {
      "name": "python3",
      "display_name": "Python 3"
    },
    "language_info": {
      "name": "python"
    }
  },
  "cells": [
    {
      "cell_type": "markdown",
      "metadata": {
        "id": "view-in-github",
        "colab_type": "text"
      },
      "source": [
        "<a href=\"https://colab.research.google.com/github/xonorKjr/programaci-/blob/main/ex_mates.ipynb\" target=\"_parent\"><img src=\"https://colab.research.google.com/assets/colab-badge.svg\" alt=\"Open In Colab\"/></a>"
      ]
    },
    {
      "cell_type": "markdown",
      "source": [
        "Pregunta-li a la variable mitjançant el type quin tipus de variable és. Un cop preguntat si la resposta és un número sencer cal que el programa digui; Escriu el nombre amb un número no sencer o decimal sinó cal que imprimeixi el valor de nines."
      ],
      "metadata": {
        "id": "5VgT1PYnsa31"
      }
    },
    {
      "cell_type": "markdown",
      "source": [],
      "metadata": {
        "id": "22SOp5Ttv4kI"
      }
    },
    {
      "cell_type": "code",
      "execution_count": null,
      "metadata": {
        "id": "9CPQXKMqrwoB",
        "colab": {
          "base_uri": "https://localhost:8080/",
          "height": 106
        },
        "outputId": "335970e6-c545-41b5-93a5-30c0748527a1"
      },
      "outputs": [
        {
          "output_type": "error",
          "ename": "IndentationError",
          "evalue": "unindent does not match any outer indentation level (<tokenize>, line 4)",
          "traceback": [
            "\u001b[0;36m  File \u001b[0;32m\"<tokenize>\"\u001b[0;36m, line \u001b[0;32m4\u001b[0m\n\u001b[0;31m    if nines is int\u001b[0m\n\u001b[0m    ^\u001b[0m\n\u001b[0;31mIndentationError\u001b[0m\u001b[0;31m:\u001b[0m unindent does not match any outer indentation level\n"
          ]
        }
      ],
      "source": [
        "nines=20\n",
        "\n",
        "  print(type(nines))\n",
        "  if nines is int\n",
        "    print(\"Es nombre sencer\")\n",
        "    print(float(nines))\n",
        "\n",
        "  else:\n",
        "    print(\"Es altre tipus de nines\")\n",
        "\n",
        "\n"
      ]
    },
    {
      "cell_type": "markdown",
      "source": [
        "llibres= 5€ punt de llibre= 1.5€ portallibres= 10€\n"
      ],
      "metadata": {
        "id": "Yye5fMMplAUk"
      }
    },
    {
      "cell_type": "code",
      "source": [
        "llibres = float(input(\"Quants libres compres\"))\n",
        "punt_de_llibre = float(input(\"Quants punts de llibre compres?\"))\n",
        "portallibres = float(input(\"Quants portallibres compres?\"))\n",
        "t(\n",
        "preu = ((llibres*5) + (punt_de_llibre*1.5) + (portallibres*10))\n",
        "if (preu%2==0):\n",
        "    prin\"Cal que el valor sigui float\")\n",
        "else:\n",
        "    print(\"El preu final serà\", preu)"
      ],
      "metadata": {
        "colab": {
          "base_uri": "https://localhost:8080/"
        },
        "id": "9FaX7kdTlKio",
        "outputId": "c60a9661-8e5e-4267-e757-7a994bf70c16"
      },
      "execution_count": null,
      "outputs": [
        {
          "output_type": "stream",
          "name": "stdout",
          "text": [
            "Quants libres compres3\n",
            "Quants punts de llibre compres?5\n",
            "Quants portallibres compres?24\n",
            "El preu final serà 262.5\n"
          ]
        }
      ]
    },
    {
      "cell_type": "markdown",
      "source": [
        "Calcular la superficie d'un quadrat coneixent un costat."
      ],
      "metadata": {
        "id": "AVSTEVkLplww"
      }
    },
    {
      "cell_type": "code",
      "source": [
        "costat=int(input(\"Quant mesura el costat)\"))\n",
        "area=costat*costat\n",
        "print(\"La supericie del quadrat mesura\", area, \"m\")"
      ],
      "metadata": {
        "colab": {
          "base_uri": "https://localhost:8080/"
        },
        "id": "T5iBEGULqeiY",
        "outputId": "fb9639ec-0cfe-421b-df14-dcfa87ed9065"
      },
      "execution_count": 1,
      "outputs": [
        {
          "output_type": "stream",
          "name": "stdout",
          "text": [
            "Quant mesura el costat)3\n",
            "La supericie del quadrat mesura 9 m\n"
          ]
        }
      ]
    },
    {
      "cell_type": "markdown",
      "source": [
        "Realitzar el perimetre d'un quadrat"
      ],
      "metadata": {
        "id": "94FUJY6LptQp"
      }
    },
    {
      "cell_type": "code",
      "source": [
        "metres=6\n",
        "costats=4\n",
        "perimetre=costat*metres\n",
        "print(\"El perimetre del quadrat mesura\", perimetre, \"m\")"
      ],
      "metadata": {
        "id": "ujo0x1cCsQir"
      },
      "execution_count": null,
      "outputs": []
    },
    {
      "cell_type": "markdown",
      "source": [
        "Inventa 4 varaibles, fes una suma, producte dels 2 primers i producte dels 2 ultims i sumar el resultat"
      ],
      "metadata": {
        "id": "T-sVdLJTp6N5"
      }
    },
    {
      "cell_type": "code",
      "source": [
        "a=7\n",
        "b=4\n",
        "c=8\n",
        "d=10\n",
        "\n",
        "suma=a+b+c+d\n",
        "print(\"La suma de les varaibles es\", suma)\n",
        "\n",
        "dos_primers=a+b\n",
        "dos_ultims=c+d\n",
        "multiplicacio=dos_primers*dos_ultims\n",
        "print(\"El resultat de multiplicar la suma del dos primers numeros amb la suma dels dos ultims números dona\", multiplicacio)"
      ],
      "metadata": {
        "colab": {
          "base_uri": "https://localhost:8080/"
        },
        "id": "jWBUiT74sSzw",
        "outputId": "eff5a270-ce4d-4947-bd03-b9ac0f1dd783"
      },
      "execution_count": null,
      "outputs": [
        {
          "output_type": "stream",
          "name": "stdout",
          "text": [
            "La suma de les varaibles es 29\n",
            "El resultat de multiplicar la suma del dos primers numeros amb la suma dels dos ultims números dona 198\n"
          ]
        }
      ]
    }
  ]
}