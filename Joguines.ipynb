{
  "nbformat": 4,
  "nbformat_minor": 0,
  "metadata": {
    "colab": {
      "provenance": [],
      "authorship_tag": "ABX9TyOf/ZA6CdyyCAfrY8yiB67Z",
      "include_colab_link": true
    },
    "kernelspec": {
      "name": "python3",
      "display_name": "Python 3"
    },
    "language_info": {
      "name": "python"
    }
  },
  "cells": [
    {
      "cell_type": "markdown",
      "metadata": {
        "id": "view-in-github",
        "colab_type": "text"
      },
      "source": [
        "<a href=\"https://colab.research.google.com/github/xonorKjr/programaci-/blob/main/Joguines.ipynb\" target=\"_parent\"><img src=\"https://colab.research.google.com/assets/colab-badge.svg\" alt=\"Open In Colab\"/></a>"
      ]
    },
    {
      "cell_type": "code",
      "execution_count": null,
      "metadata": {
        "id": "AyLWM6N0kaow"
      },
      "outputs": [],
      "source": []
    },
    {
      "cell_type": "markdown",
      "source": [
        "Una botiga de joguines té molt èxit en dos dels seus productes: nines i pallasos. Acostuma a fer vendes per correu i l'empresa de logística els cobra pel pes de cada joguina, així doncs han de calcular el pes dels pallasos i nines que sortiran a cada paquet a demanda. Cada pallasso 112gr i cada nina 75gr. Fes un programa que llegeixi el número de pallasos nines venudes a la darrera comanda i que calculen el pes total del paquet."
      ],
      "metadata": {
        "id": "hV8NJvbsrC8g"
      }
    },
    {
      "cell_type": "code",
      "source": [
        "tgrams_pallasso=112\n",
        "grams_nina=75\n",
        "pallassos=int(input(\"num de pallassos\"))\n",
        "nines=int(input(\"num de nines\"))\n",
        "grams_totals=grams_pallasso*pallassos+grams_nina*pallassos\n",
        "print(grams_totals)"
      ],
      "metadata": {
        "id": "MJlKVK3_uMfA",
        "colab": {
          "base_uri": "https://localhost:8080/"
        },
        "outputId": "59e4c8db-a2a0-4a5b-d5d8-26965c98afa5"
      },
      "execution_count": null,
      "outputs": [
        {
          "output_type": "stream",
          "name": "stdout",
          "text": [
            "num de pallassos13\n",
            "num de nines32\n",
            "2431\n"
          ]
        }
      ]
    },
    {
      "cell_type": "markdown",
      "source": [],
      "metadata": {
        "id": "O25IO-_926UV"
      }
    }
  ]
}