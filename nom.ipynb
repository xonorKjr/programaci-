{
  "nbformat": 4,
  "nbformat_minor": 0,
  "metadata": {
    "colab": {
      "provenance": [],
      "authorship_tag": "ABX9TyNghiVpiP1LFZ5hUMkC1Nlm",
      "include_colab_link": true
    },
    "kernelspec": {
      "name": "python3",
      "display_name": "Python 3"
    },
    "language_info": {
      "name": "python"
    }
  },
  "cells": [
    {
      "cell_type": "markdown",
      "metadata": {
        "id": "view-in-github",
        "colab_type": "text"
      },
      "source": [
        "<a href=\"https://colab.research.google.com/github/xonorKjr/programaci-/blob/main/nom.ipynb\" target=\"_parent\"><img src=\"https://colab.research.google.com/assets/colab-badge.svg\" alt=\"Open In Colab\"/></a>"
      ]
    },
    {
      "cell_type": "code",
      "execution_count": null,
      "metadata": {
        "colab": {
          "base_uri": "https://localhost:8080/"
        },
        "id": "TWiDV_VRIu6K",
        "outputId": "82a00284-60c0-46cb-97cc-65e53d7e3cb1"
      },
      "outputs": [
        {
          "output_type": "stream",
          "name": "stdout",
          "text": [
            "Hola xorix\n"
          ]
        }
      ],
      "source": [
        "\n",
        "print (\"Hola xorix\")"
      ]
    },
    {
      "cell_type": "markdown",
      "source": [
        "Escriu un programa que pregunti el nom de l'usuari. I que després quan l'usuari introdueixi el nom a la resposta s'ha de imprimir una resposta amb un hola a la resposta i la resposta a la pregunta."
      ],
      "metadata": {
        "id": "KcnyBwORI812"
      }
    },
    {
      "cell_type": "code",
      "source": [
        "nom=(input(\"Com et dius?\"))\n",
        "print(\"Hola\",nom)\n"
      ],
      "metadata": {
        "colab": {
          "base_uri": "https://localhost:8080/"
        },
        "id": "-8p2N4m3JeQf",
        "outputId": "0712b0b6-4493-4678-9400-6572caa51a64"
      },
      "execution_count": null,
      "outputs": [
        {
          "output_type": "stream",
          "name": "stdout",
          "text": [
            "Com et dius?maikel llordan\n",
            "Hola maikel llordan\n"
          ]
        }
      ]
    }
  ]
}